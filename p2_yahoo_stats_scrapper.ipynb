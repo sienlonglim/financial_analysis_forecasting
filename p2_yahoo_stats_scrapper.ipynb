{
 "cells": [
  {
   "cell_type": "code",
   "execution_count": 1,
   "id": "faa7fe94",
   "metadata": {},
   "outputs": [],
   "source": [
    "from modules.utils import *\n",
    "from modules.YfScrapper import *\n",
    "pd.set_option('display.max_columns', None)"
   ]
  },
  {
   "attachments": {},
   "cell_type": "markdown",
   "id": "44c56d39",
   "metadata": {},
   "source": [
    "<h2>Part 2 - S&P and portfolio web scraper</h2>\n",
    "<h3>Introduction</h3>\n",
    "<p>The Standard and Poor's 500, or simply the S&P 500, is a stock market index tracking the stock performance of 500 large companies listed on stock exchanges in the United States. Having consisting of 11 different sectors and over 500 different companies, the index can be used as a benchmark for a basic stock portfolio diversification in the US stock marker. It is one of the most commonly followed equity indices.</p>\n",
    "    \n",
    "<p>This script scraps data from the yahoo finance statistics page.</p>\n",
    "<img src=\"images/sample.JPG\">\n",
    "<p>Two sets of data are in focus</p>\n",
    "<ol>\n",
    "    <li>The S&P index constituents.</li>\n",
    "    <li>One's portfolio</li>\n",
    "    </ol>"
   ]
  },
  {
   "attachments": {},
   "cell_type": "markdown",
   "id": "36658f62",
   "metadata": {},
   "source": [
    "### Option 1 - S&P data"
   ]
  },
  {
   "cell_type": "code",
   "execution_count": 2,
   "id": "2746e27b",
   "metadata": {},
   "outputs": [
    {
     "name": "stdout",
     "output_type": "stream",
     "text": [
      "Number of S&P constituent data obtained: 503\n"
     ]
    },
    {
     "data": {
      "text/html": [
       "<div>\n",
       "<style scoped>\n",
       "    .dataframe tbody tr th:only-of-type {\n",
       "        vertical-align: middle;\n",
       "    }\n",
       "\n",
       "    .dataframe tbody tr th {\n",
       "        vertical-align: top;\n",
       "    }\n",
       "\n",
       "    .dataframe thead th {\n",
       "        text-align: right;\n",
       "    }\n",
       "</style>\n",
       "<table border=\"1\" class=\"dataframe\">\n",
       "  <thead>\n",
       "    <tr style=\"text-align: right;\">\n",
       "      <th></th>\n",
       "      <th>Company</th>\n",
       "      <th>Symbol</th>\n",
       "      <th>Portfolio%</th>\n",
       "      <th>Price</th>\n",
       "      <th>Chg</th>\n",
       "      <th>% Chg</th>\n",
       "    </tr>\n",
       "  </thead>\n",
       "  <tbody>\n",
       "    <tr>\n",
       "      <th>0</th>\n",
       "      <td>Microsoft Corp</td>\n",
       "      <td>MSFT</td>\n",
       "      <td>6.92%</td>\n",
       "      <td>371.75</td>\n",
       "      <td>1.15</td>\n",
       "      <td>(0.31%)</td>\n",
       "    </tr>\n",
       "    <tr>\n",
       "      <th>1</th>\n",
       "      <td>Apple Inc.</td>\n",
       "      <td>AAPL</td>\n",
       "      <td>6.82%</td>\n",
       "      <td>181.52</td>\n",
       "      <td>-2.73</td>\n",
       "      <td>(-1.48%)</td>\n",
       "    </tr>\n",
       "    <tr>\n",
       "      <th>2</th>\n",
       "      <td>Amazon.com Inc</td>\n",
       "      <td>AMZN</td>\n",
       "      <td>3.42%</td>\n",
       "      <td>145.33</td>\n",
       "      <td>-3.14</td>\n",
       "      <td>(-2.11%)</td>\n",
       "    </tr>\n",
       "    <tr>\n",
       "      <th>3</th>\n",
       "      <td>Nvidia Corp</td>\n",
       "      <td>NVDA</td>\n",
       "      <td>2.99%</td>\n",
       "      <td>476.36</td>\n",
       "      <td>0.67</td>\n",
       "      <td>(0.14%)</td>\n",
       "    </tr>\n",
       "    <tr>\n",
       "      <th>4</th>\n",
       "      <td>Alphabet Inc. Class A</td>\n",
       "      <td>GOOGL</td>\n",
       "      <td>2.05%</td>\n",
       "      <td>138.53</td>\n",
       "      <td>-0.39</td>\n",
       "      <td>(-0.28%)</td>\n",
       "    </tr>\n",
       "    <tr>\n",
       "      <th>...</th>\n",
       "      <td>...</td>\n",
       "      <td>...</td>\n",
       "      <td>...</td>\n",
       "      <td>...</td>\n",
       "      <td>...</td>\n",
       "      <td>...</td>\n",
       "    </tr>\n",
       "    <tr>\n",
       "      <th>498</th>\n",
       "      <td>Ralph Lauren Corporation</td>\n",
       "      <td>RL</td>\n",
       "      <td>0.01%</td>\n",
       "      <td>144.49</td>\n",
       "      <td>1.90</td>\n",
       "      <td>(1.33%)</td>\n",
       "    </tr>\n",
       "    <tr>\n",
       "      <th>499</th>\n",
       "      <td>Davita Inc.</td>\n",
       "      <td>DVA</td>\n",
       "      <td>0.01%</td>\n",
       "      <td>107.23</td>\n",
       "      <td>1.94</td>\n",
       "      <td>(1.84%)</td>\n",
       "    </tr>\n",
       "    <tr>\n",
       "      <th>500</th>\n",
       "      <td>Mohawk Industries, Inc.</td>\n",
       "      <td>MHK</td>\n",
       "      <td>0.01%</td>\n",
       "      <td>101.11</td>\n",
       "      <td>0.18</td>\n",
       "      <td>(0.18%)</td>\n",
       "    </tr>\n",
       "    <tr>\n",
       "      <th>501</th>\n",
       "      <td>Fox Corporation Class B</td>\n",
       "      <td>FOX</td>\n",
       "      <td>0.01%</td>\n",
       "      <td>28.04</td>\n",
       "      <td>0.07</td>\n",
       "      <td>(0.25%)</td>\n",
       "    </tr>\n",
       "    <tr>\n",
       "      <th>502</th>\n",
       "      <td>News Corporation Class B</td>\n",
       "      <td>NWS</td>\n",
       "      <td>0.01%</td>\n",
       "      <td>25.34</td>\n",
       "      <td>-0.14</td>\n",
       "      <td>(-0.53%)</td>\n",
       "    </tr>\n",
       "  </tbody>\n",
       "</table>\n",
       "<p>503 rows × 6 columns</p>\n",
       "</div>"
      ],
      "text/plain": [
       "                      Company Symbol Portfolio%   Price    Chg     % Chg\n",
       "0              Microsoft Corp   MSFT      6.92%  371.75   1.15   (0.31%)\n",
       "1                  Apple Inc.   AAPL      6.82%  181.52  -2.73  (-1.48%)\n",
       "2              Amazon.com Inc   AMZN      3.42%  145.33  -3.14  (-2.11%)\n",
       "3                 Nvidia Corp   NVDA      2.99%  476.36   0.67   (0.14%)\n",
       "4       Alphabet Inc. Class A  GOOGL      2.05%  138.53  -0.39  (-0.28%)\n",
       "..                        ...    ...        ...     ...    ...       ...\n",
       "498  Ralph Lauren Corporation     RL      0.01%  144.49   1.90   (1.33%)\n",
       "499               Davita Inc.    DVA      0.01%  107.23   1.94   (1.84%)\n",
       "500   Mohawk Industries, Inc.    MHK      0.01%  101.11   0.18   (0.18%)\n",
       "501   Fox Corporation Class B    FOX      0.01%   28.04   0.07   (0.25%)\n",
       "502  News Corporation Class B    NWS      0.01%   25.34  -0.14  (-0.53%)\n",
       "\n",
       "[503 rows x 6 columns]"
      ]
     },
     "execution_count": 2,
     "metadata": {},
     "output_type": "execute_result"
    }
   ],
   "source": [
    "sp_df = get_SP500_data()\n",
    "sp_df"
   ]
  },
  {
   "attachments": {},
   "cell_type": "markdown",
   "id": "0dfff801",
   "metadata": {},
   "source": [
    "### Option 2 - Personal portfolio data"
   ]
  },
  {
   "cell_type": "code",
   "execution_count": 3,
   "id": "38b26cd1",
   "metadata": {},
   "outputs": [],
   "source": [
    "input_tickers = pd.read_csv('portfolio_tickers.csv') #input file with a list of portfolio tickers\n",
    "tickers = input_tickers['Tickers'].tolist()"
   ]
  },
  {
   "attachments": {},
   "cell_type": "markdown",
   "id": "bef5f952",
   "metadata": {},
   "source": [
    "### Run code"
   ]
  },
  {
   "cell_type": "code",
   "execution_count": 4,
   "id": "0e56e024",
   "metadata": {},
   "outputs": [
    {
     "name": "stdout",
     "output_type": "stream",
     "text": [
      "Added 37 tickers\n",
      "TSLA status - 200\n",
      "TTD status - 200\n",
      "NVDA status - 200\n",
      "GOOG status - 200\n",
      "CRWD status - 200\n",
      "AMZN status - 200\n",
      "IDXX status - 200\n",
      "MELI status - 200\n",
      "ABNB status - 200\n",
      "ZS status - 200\n",
      "ASML status - 200\n",
      "SE status - 200\n",
      "AXON status - 200\n",
      "TEAM status - 200\n",
      "LULU status - 200\n",
      "SNOW status - 200\n",
      "NET status - 200\n",
      "HUBS status - 200\n",
      "DDOG status - 200\n",
      "DOCN status - 200\n",
      "U status - 200\n",
      "SEMR status - 200\n",
      "LMND status - 200\n",
      "ZM status - 200\n",
      "CDNS status - 200\n",
      "PINS status - 200\n",
      "MDB status - 200\n",
      "MRNA status - 200\n",
      "ROKU status - 200\n",
      "GLBE status - 200\n",
      "ASAN status - 200\n",
      "UPST status - 200\n",
      "TWLO status - 200\n",
      "CRSP status - 200\n",
      "APPN status - 200\n",
      "NNOX status - 200\n",
      "SHOP status - 200\n"
     ]
    }
   ],
   "source": [
    "scrapper = YfScrapper()\n",
    "scrapper.add_tickers(tickers)\n",
    "scrapper.get_ticker_stats('all', clean_df=True)"
   ]
  },
  {
   "cell_type": "code",
   "execution_count": 6,
   "id": "f95750cb",
   "metadata": {},
   "outputs": [],
   "source": [
    "final_df = scrapper.combine_data()"
   ]
  },
  {
   "cell_type": "markdown",
   "id": "ed80f75a",
   "metadata": {},
   "source": [
    "# OLD CODE"
   ]
  },
  {
   "cell_type": "code",
   "execution_count": null,
   "id": "16df3416",
   "metadata": {},
   "outputs": [],
   "source": [
    "# OLD CODE\n",
    "# scrapped_data = {}\n",
    "\n",
    "# try:\n",
    "#     missed_tickers = scrap_ticker(tickers, data_dict=scrapped_data, sleeptime=2, batch_interval=50)\n",
    "#     if missed_tickers:\n",
    "#         missed_tickers = rescrap_missed(missed_tickers, data_dict=scrapped_data, max_tries=2)\n",
    "# except Exception as e:\n",
    "#     print(e)\n",
    "# finally:\n",
    "#     final_df, ticker_df = clean_df(scrapped_data, metrics, display_progress=False, market_indices=market_indices)\n",
    "#     final_df.reset_index(drop=True, inplace=True)\n",
    "# final_df"
   ]
  },
  {
   "cell_type": "code",
   "execution_count": 41,
   "id": "3af391f6",
   "metadata": {},
   "outputs": [
    {
     "name": "stdout",
     "output_type": "stream",
     "text": [
      "Saved to file: s&p_2023-04-16.csv\n"
     ]
    }
   ],
   "source": [
    "# filename = input(\"Enter filename to save as: \")\n",
    "# if filename == '':\n",
    "#     filename = 'portfolio'\n",
    "# current_date = date.today().isoformat()\n",
    "# final_df.to_csv(f'data/{filename}_{current_date}.csv')\n",
    "# print(f'Saved to file: {filename}_{current_date}.csv')"
   ]
  },
  {
   "cell_type": "code",
   "execution_count": 17,
   "id": "5a3396c3",
   "metadata": {},
   "outputs": [
    {
     "name": "stdout",
     "output_type": "stream",
     "text": [
      "Connected to database\n",
      "1062: Duplicate entry 'TSLA' for key 'PRIMARY'\n",
      "1062: Duplicate entry 'NVDA' for key 'PRIMARY'\n",
      "1062: Duplicate entry 'GOOG' for key 'PRIMARY'\n",
      "1062: Duplicate entry 'AMZN' for key 'PRIMARY'\n",
      "1062: Duplicate entry 'IDXX' for key 'PRIMARY'\n",
      "1062: Duplicate entry 'CDNS' for key 'PRIMARY'\n",
      "1062: Duplicate entry 'MRNA' for key 'PRIMARY'\n",
      "Completed\n"
     ]
    }
   ],
   "source": [
    "# import mysql.connector\n",
    "# import json\n",
    "\n",
    "# def get_value_from_json(json_file, key, sub_key=None):\n",
    "#    '''\n",
    "#    Function to read the json file for our app secret key\n",
    "#    '''\n",
    "#    try:\n",
    "#        with open(json_file) as f:\n",
    "#            data = json.load(f)\n",
    "#            if sub_key:\n",
    "#                return data[key][sub_key]\n",
    "#            else:\n",
    "#                return data[key]\n",
    "#    except Exception as e:\n",
    "#        print(\"Error: \", e)\n",
    "\n",
    "# config = get_value_from_json(\"data/secrets.json\", \"mysql_connector\")\n",
    "\n",
    "# # Connect to server on localhost\n",
    "# try:\n",
    "#     cnx = mysql.connector.connect(**config)\n",
    "#     print('Connected to database')\n",
    "#     cur = cnx.cursor()\n",
    "#     insert_query = \"INSERT IGNORE INTO companies (`ticker`, `name`, `index`) VALUES (%s, %s, %s)\"\n",
    "#     for index, row in ticker_df.iterrows():\n",
    "#         try:\n",
    "#             data = (row['ticker'], row['name'].strip(), row['index'])\n",
    "#             #print(f'Inserting {data}', end = ' ')\n",
    "#             cur.execute(insert_query, data)\n",
    "#             cnx.commit()\n",
    "#             #print('Done')\n",
    "#         except mysql.connector.Error as err:\n",
    "#             print(err)\n",
    "# except mysql.connector.Error as err:\n",
    "#     print(err)\n",
    "# finally:\n",
    "#     print('Completed')\n",
    "#     cur.close()\n",
    "#     cnx.close()"
   ]
  },
  {
   "cell_type": "code",
   "execution_count": 46,
   "id": "9bef1d2b",
   "metadata": {},
   "outputs": [
    {
     "name": "stdout",
     "output_type": "stream",
     "text": [
      "Connected to database\n",
      "1062: Duplicate entry '2023-04-16-AAPL' for key 'PRIMARY'\n",
      "1062: Duplicate entry '2023-04-16-MSFT' for key 'PRIMARY'\n",
      "1062: Duplicate entry '2023-04-16-AMZN' for key 'PRIMARY'\n",
      "1062: Duplicate entry '2023-04-16-NVDA' for key 'PRIMARY'\n",
      "1062: Duplicate entry '2023-04-16-GOOG' for key 'PRIMARY'\n",
      "1062: Duplicate entry '2023-04-16-TSLA' for key 'PRIMARY'\n",
      "1062: Duplicate entry '2023-04-16-CDNS' for key 'PRIMARY'\n",
      "1062: Duplicate entry '2023-04-16-MRNA' for key 'PRIMARY'\n",
      "1062: Duplicate entry '2023-04-16-IDXX' for key 'PRIMARY'\n",
      "Completed\n"
     ]
    }
   ],
   "source": [
    "# try:\n",
    "#     cnx = mysql.connector.connect(**config)\n",
    "#     print('Connected to database')\n",
    "#     cur = cnx.cursor()\n",
    "#     insert_query = '''INSERT IGNORE INTO statistics (Ticker, `Market Cap (B)`, `Enterprise Value (B)`, `Trailing P/E`,\n",
    "#        `Forward P/E`, `PEG Ratio (5 yr expected)`, `Price/Sales (ttm)`,\n",
    "#        `Price/Book (mrq)`, `Enterprise Value/Revenue`,\n",
    "#        `Enterprise Value/EBITDA`, `Beta (5Y Monthly)`, `52 Week Change (%)`,\n",
    "#        `S&P500 52-Week Change (%)`, `52 Week High`, `52 Week Low`,\n",
    "#        `50-Day Moving Average`, `200-Day Moving Average`,\n",
    "#        `Avg Vol 3 month (M)`, `Avg Vol 10 day (M)`, `Shares Outstanding`,\n",
    "#        `Implied Shares Outstanding`, `Float`, `% Held by Insiders`,\n",
    "#        `% Held by Institutions`, `Shares Short (M)`, `Short Ratio (M)`,\n",
    "#        `Short % of Float`, `Short % of Shares Outstanding`, `Shares Short`,\n",
    "#        `Forward Annual Dividend Rate`, `Forward Annual Dividend Yield (%)`,\n",
    "#        `Trailing Annual Dividend Rate`, `Trailing Annual Dividend Yield (%)`,\n",
    "#        `5 Year Average Dividend Yield`, `Payout Ratio (%)`,\n",
    "#        `Last Split Factor (x:1)`, `Profit Margin (%)`,\n",
    "#        `Operating Margin (ttm) (%)`, `Return on Assets (ttm) (%)`,\n",
    "#        `Return on Equity (ttm) (%)`, `Revenue (ttm) (B)`,\n",
    "#        `Revenue Per Share (ttm)`, `Quarterly Revenue Growth (yoy) (%)`,\n",
    "#        `Gross Profit (ttm) (B)`, `EBITDA (B)`,\n",
    "#        `Net Income Avi to Common (ttm) (B)`, `Diluted EPS (ttm)`,\n",
    "#        `Quarterly Earnings Growth (yoy) (%)`, `Total Cash (mrq) (B)`,\n",
    "#        `Total Cash Per Share (mrq)`, `Total Debt (mrq) (B)`,\n",
    "#        `Total Debt/Equity (mrq)`, `Current Ratio (mrq)`,\n",
    "#        `Book Value Per Share (mrq)`, `Operating Cash Flow (ttm) (B)`,\n",
    "#        `Levered Free Cash Flow (ttm) (B)`, `Dividend Date`, `Ex-Dividend Date`,\n",
    "#        `Last Split Date`, `Fiscal Year Ends`, `Most Recent Quarter (mrq)`) \n",
    "#        VALUES (%s, %s, %s, %s, %s, %s, %s, %s, %s, %s,\n",
    "#        %s, %s, %s, %s, %s, %s, %s, %s, %s, %s,\n",
    "#        %s, %s, %s, %s, %s, %s, %s, %s, %s, %s,\n",
    "#        %s, %s, %s, %s, %s, %s, %s, %s, %s, %s,\n",
    "#        %s, %s, %s, %s, %s, %s, %s, %s, %s, %s,\n",
    "#        %s, %s, %s, %s, %s, %s, %s, %s, %s, %s,\n",
    "#        %s)'''\n",
    "#     for index, row in final_df.iterrows():\n",
    "#         try:\n",
    "#             data = (row[0], row[1], row[2], row[3], row[4], row[5], row[6], row[7], row[8], row[9], \n",
    "#                 row[10], row[11], row[12], row[13], row[14], row[15], row[16], row[17], row[18], \n",
    "#                 row[19], row[20], row[21], row[22], row[23], row[24], row[25], row[26], row[27], \n",
    "#                 row[28], row[29], row[30], row[31], row[32], row[33], row[34], row[35], row[36], \n",
    "#                 row[37], row[38], row[39], row[40], row[41], row[42], row[43], row[44], row[45], \n",
    "#                 row[46], row[47], row[48], row[49], row[50], row[51], row[52], row[53], row[54], \n",
    "#                 row[55], row[56], row[57], row[58], row[59], row[60])\n",
    "#             #print(f'Inserting {data}', end = ' ')\n",
    "#             cur.execute(insert_query, data)\n",
    "#             cnx.commit()\n",
    "#             #print('Done')\n",
    "#         except mysql.connector.Error as err:\n",
    "#             print(err)\n",
    "\n",
    "# except mysql.connector.Error as err:\n",
    "#     print(err)\n",
    "# finally:\n",
    "#     print('Completed')\n",
    "#     cur.close()\n",
    "#     cnx.close()"
   ]
  }
 ],
 "metadata": {
  "kernelspec": {
   "display_name": "base",
   "language": "python",
   "name": "python3"
  },
  "language_info": {
   "codemirror_mode": {
    "name": "ipython",
    "version": 3
   },
   "file_extension": ".py",
   "mimetype": "text/x-python",
   "name": "python",
   "nbconvert_exporter": "python",
   "pygments_lexer": "ipython3",
   "version": "3.10.5"
  },
  "vscode": {
   "interpreter": {
    "hash": "94b36ee82f075bfd65a5162390b3b714440a4070c5983427e0c848ed56faa685"
   }
  }
 },
 "nbformat": 4,
 "nbformat_minor": 5
}
