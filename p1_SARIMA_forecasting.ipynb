{
 "cells": [
  {
   "cell_type": "code",
   "execution_count": 2,
   "metadata": {},
   "outputs": [],
   "source": [
    "import yfinance as yf\n",
    "import matplotlib.pyplot as plt\n",
    "import pandas as pd\n",
    "import numpy as np\n",
    "from statsmodels.tsa.arima.model import ARIMA"
   ]
  },
  {
   "cell_type": "code",
   "execution_count": 132,
   "metadata": {},
   "outputs": [],
   "source": [
    "class Forecaster():\n",
    "    '''\n",
    "    Object class to retrieve prices, forecast, and determine buy/sell actions\n",
    "    '''\n",
    "    def __init__(self):\n",
    "        self.tickers = {}\n",
    "\n",
    "\n",
    "    def forecast(self, ticker, period='5y', interval='1wk', order=(1, 1, 1), seasonal_order=(1, 1, 1, 52)):\n",
    "        stock = yf.Ticker(ticker)\n",
    "        # print(stock.info)\n",
    "\n",
    "        # get historical market data\n",
    "        df = stock.history(period=period, interval=interval)\n",
    "        if interval == '1wk':\n",
    "            ts = df[['Close']].to_period('W')\n",
    "        model = ARIMA(ts, order=order,seasonal_order=seasonal_order)\n",
    "        model_fit = model.fit()\n",
    "        forecast = model_fit.predict(start=len(df), end = len(df)+seasonal_order[-1], dynamic=False)     \n",
    "        self.tickers[ticker] = {'ts': ts, 'forecast': forecast}\n",
    "    \n",
    "    def plot_forecast(self, ticker):\n",
    "        try:\n",
    "            ticker = self.tickers.get(ticker, None)\n",
    "            ts, forecast = ticker.get('ts', None), ticker.get('forecast', None)\n",
    "            # Use .to_timestamp() to convert period back into timestamp for plotting\n",
    "            plt.plot(ts.to_timestamp())\n",
    "            plt.plot(forecast.to_timestamp())\n",
    "        except AttributeError:\n",
    "            raise AttributeError(f'No forecasting done yet for {ticker}')\n",
    "            \n",
    "\n",
    "    def find_max_profit(self, ticker):\n",
    "        ticker = self.tickers.get(ticker, None)     \n",
    "        try:\n",
    "            forecast = ticker.get('forecast', None)  \n",
    "            max_profit = 0\n",
    "            high, low = None, None\n",
    "            last_profit = None\n",
    "            data = {}\n",
    "            for period, price in zip(forecast.index, forecast):\n",
    "                data[period] = dict(current=price)\n",
    "                if not low or not high:\n",
    "                    low = high = price\n",
    "\n",
    "                # Find new lows\n",
    "                if price < low:\n",
    "                    low, low_idx = price, period\n",
    "                    high, high_idx = price, period # reset the high\n",
    "                    data[period]['new_low'] = price\n",
    "\n",
    "                # Find new highs\n",
    "                if price > high:\n",
    "                    high = price\n",
    "                    high, high_idx = price, period\n",
    "                    data[period]['new_high'] = price\n",
    "\n",
    "                # Calculate and check profit\n",
    "                profit = round((high - low)/low * 100, 2)\n",
    "                if profit > 0:\n",
    "                    if profit != last_profit:\n",
    "                        data[period]['profit %'] = profit\n",
    "                last_profit = profit\n",
    "\n",
    "                # Record the new max_profit\n",
    "                if profit > max_profit:\n",
    "                    max_profit, buy, sell = profit, low_idx, high_idx\n",
    "                    data[period]['new_max_profit'] = profit\n",
    "\n",
    "            data[buy]['action'], data[sell]['action'] = 'buy', 'sell'\n",
    "            df = pd.DataFrame(data).T\n",
    "            df = df.fillna('')\n",
    "            df = df[['current', 'profit %', 'new_low', 'new_high', 'new_max_profit', 'action']]\n",
    "            ticker['actions'] = df\n",
    "            actions = df[(df['action']=='buy') | (df['action']=='sell')][['current', 'profit %', 'action']]\n",
    "            return actions\n",
    "\n",
    "        except AttributeError:\n",
    "            raise AttributeError(f'No forecasting done yet for {ticker}')\n",
    "        except Exception:\n",
    "            raise Exception\n"
   ]
  },
  {
   "cell_type": "code",
   "execution_count": 133,
   "metadata": {},
   "outputs": [
    {
     "name": "stderr",
     "output_type": "stream",
     "text": [
      "C:\\Users\\stell\\AppData\\Local\\Temp\\ipykernel_11440\\2580087935.py:16: UserWarning: Converting to PeriodArray/Index representation will drop timezone information.\n",
      "  ts = df[['Close']].to_period('W')\n"
     ]
    },
    {
     "data": {
      "image/png": "[encoded data removed]",
      "text/plain": [
       "<Figure size 640x480 with 1 Axes>"
      ]
     },
     "metadata": {},
     "output_type": "display_data"
    }
   ],
   "source": [
    "forecaster = Forecaster()\n",
    "\n",
    "forecaster.forecast(\n",
    "    'NVDA',\n",
    "    period='10y', \n",
    "    interval='1wk', \n",
    "    order=(1, 1, 1), \n",
    "    seasonal_order=(1, 1, 1, 52))\n",
    "\n",
    "forecaster.plot_forecast('NVDA')"
   ]
  },
  {
   "cell_type": "code",
   "execution_count": 134,
   "metadata": {},
   "outputs": [
    {
     "data": {
      "text/html": [
       "<div>\n",
       "<style scoped>\n",
       "    .dataframe tbody tr th:only-of-type {\n",
       "        vertical-align: middle;\n",
       "    }\n",
       "\n",
       "    .dataframe tbody tr th {\n",
       "        vertical-align: top;\n",
       "    }\n",
       "\n",
       "    .dataframe thead th {\n",
       "        text-align: right;\n",
       "    }\n",
       "</style>\n",
       "<table border=\"1\" class=\"dataframe\">\n",
       "  <thead>\n",
       "    <tr style=\"text-align: right;\">\n",
       "      <th></th>\n",
       "      <th>current</th>\n",
       "      <th>profit %</th>\n",
       "      <th>action</th>\n",
       "    </tr>\n",
       "  </thead>\n",
       "  <tbody>\n",
       "    <tr>\n",
       "      <th>2024-01-15/2024-01-21</th>\n",
       "      <td>487.505980</td>\n",
       "      <td></td>\n",
       "      <td>buy</td>\n",
       "    </tr>\n",
       "    <tr>\n",
       "      <th>2024-11-11/2024-11-17</th>\n",
       "      <td>582.534941</td>\n",
       "      <td>19.49</td>\n",
       "      <td>sell</td>\n",
       "    </tr>\n",
       "  </tbody>\n",
       "</table>\n",
       "</div>"
      ],
      "text/plain": [
       "                          current profit % action\n",
       "2024-01-15/2024-01-21  487.505980             buy\n",
       "2024-11-11/2024-11-17  582.534941    19.49   sell"
      ]
     },
     "execution_count": 134,
     "metadata": {},
     "output_type": "execute_result"
    }
   ],
   "source": [
    "forecaster.find_max_profit('NVDA')"
   ]
  },
  {
   "cell_type": "code",
   "execution_count": 82,
   "metadata": {},
   "outputs": [],
   "source": [
    "# def determine_actions(row, max_profit):\n",
    "#     if row['new_low']>0:\n",
    "#         return 'buy'\n",
    "#     elif row['new_high'] and row['new_max_profit']!= max_profit:\n",
    "#         return 'hold'\n",
    "#     else:\n",
    "#         return 'sell'\n",
    "\n",
    "# df, max_profit = find_max_profit(out_of_sample_predictions)\n",
    "# df['actions'] = df.apply(determine_actions, axis=1, args=[max_profit])\n",
    "# df"
   ]
  }
 ],
 "metadata": {
  "kernelspec": {
   "display_name": ".venv",
   "language": "python",
   "name": "python3"
  },
  "language_info": {
   "codemirror_mode": {
    "name": "ipython",
    "version": 3
   },
   "file_extension": ".py",
   "mimetype": "text/x-python",
   "name": "python",
   "nbconvert_exporter": "python",
   "pygments_lexer": "ipython3",
   "version": "3.10.5"
  }
 },
 "nbformat": 4,
 "nbformat_minor": 2
}
