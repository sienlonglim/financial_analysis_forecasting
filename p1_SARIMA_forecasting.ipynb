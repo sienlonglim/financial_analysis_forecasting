{
 "cells": [
  {
   "cell_type": "code",
   "execution_count": null,
   "metadata": {},
   "outputs": [],
   "source": [
    "import yfinance as yf\n",
    "import matplotlib.pyplot as plt\n",
    "import pandas as pd\n",
    "import numpy as np"
   ]
  },
  {
   "cell_type": "code",
   "execution_count": null,
   "metadata": {},
   "outputs": [],
   "source": [
    "msft = yf.Ticker(\"SPY\")\n",
    "\n",
    "# get all stock info\n",
    "# msft.info\n",
    "\n",
    "# get historical market data\n",
    "df = msft.history(period='5y', interval='1wk')\n",
    "df = df[['Close']]\n",
    "plt.plot(df)"
   ]
  },
  {
   "cell_type": "code",
   "execution_count": null,
   "metadata": {},
   "outputs": [],
   "source": [
    "P = 1\n",
    "D = 1\n",
    "Q = 1\n",
    "m = 52\n",
    "\n",
    "\n",
    "model = sm.tsa.statespace.SARIMAX(time_series, order=(p, d, q),seasonal_order=(P,D,Q,m))\n",
    "# model = ARIMA(time_series, order=(p, d, q),seasonal_order=(P,D,Q,m)) \n",
    "\n",
    "model_seasonality=model.fit()\n",
    "out_of_sample_predictions = model_seasonality.predict(start=len(df), end = len(df)+52, dynamic=False)\n",
    "# Use .to_timestamp() to convert period back into timestamp for plotting\n",
    "plt.plot(time_series.to_timestamp())\n",
    "plt.plot(out_of_sample_predictions.to_timestamp())"
   ]
  }
 ],
 "metadata": {
  "kernelspec": {
   "display_name": ".venv",
   "language": "python",
   "name": "python3"
  },
  "language_info": {
   "name": "python",
   "version": "3.10.5"
  }
 },
 "nbformat": 4,
 "nbformat_minor": 2
}
